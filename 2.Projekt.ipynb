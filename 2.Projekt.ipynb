{
 "cells": [
  {
   "cell_type": "code",
   "execution_count": null,
   "metadata": {},
   "outputs": [],
   "source": [
    "At the end of the this coding challenge, students will be able to;\n",
    "\n",
    "get a basic understanding of sorting algorithms.\n",
    "demonstrate their knowledge of lists in python\n",
    "implement loops to solve the problems in python\n",
    "get a better understanding of computational thinking concepts\n",
    "\n",
    "\n",
    "\n",
    "Write a python code that finds the largest number among the 5 numbers given by the user as input.\n",
    "\n",
    "It is forbidden to use max() function.\n",
    "\n",
    "Indicate which computational thinking concepts have you used.\n",
    "\n",
    "Example for user inputs and respective outputs\n",
    "    \n",
    "\n",
    "\n",
    "Input            Output\n",
    "------------     ------\n",
    "1 2 3 4 5         5\n",
    "67 85 19 39       85\n",
    "\n",
    "\n",
    "\n",
    "\n",
    "count=0\n",
    "num_list=[]\n",
    "while count < 5:\n",
    "  number= int(input('Please enter the number: '))\n",
    "  num_list.append(number)\n",
    "  count = count +1\n",
    "def findLargestNum(nums):\n",
    "  largest = nums[0]\n",
    "  for i in nums:\n",
    "    if i > largest:\n",
    "      largest = i\n",
    "  return largest\n",
    "print(findLargestNum(num_list))\n",
    "        \n",
    "        \n",
    "    \n"
   ]
  }
 ],
 "metadata": {
  "language_info": {
   "name": "python"
  },
  "orig_nbformat": 4
 },
 "nbformat": 4,
 "nbformat_minor": 2
}
